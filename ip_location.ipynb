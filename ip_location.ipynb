{
 "cells": [
  {
   "cell_type": "code",
   "execution_count": 2,
   "metadata": {},
   "outputs": [
    {
     "name": "stdout",
     "output_type": "stream",
     "text": [
      "['107.242.113.9']\n"
     ]
    }
   ],
   "source": [
    "import requests\n",
    "import json\n",
    "import csv\n",
    "\n",
    "ips = []\n",
    "ip_reader = csv.reader(open('/Users/robbiemcgowan/ip.csv', newline= ''))\n",
    "\n",
    "for row in ip_reader : \n",
    "    ips.append(row[0])\n",
    "    \n",
    "print(ips)\n",
    "\n"
   ]
  },
  {
   "cell_type": "code",
   "execution_count": 3,
   "metadata": {},
   "outputs": [
    {
     "name": "stdout",
     "output_type": "stream",
     "text": [
      "Hurst\n",
      "Texas\n",
      "United States\n"
     ]
    }
   ],
   "source": [
    "location = []\n",
    "\n",
    "for i in ips :\n",
    "    url = 'http://ip-api.com/json/' + i\n",
    "    r = requests.get(url)\n",
    "    pr = json.loads(r.content)\n",
    "    print(pr['city'])\n",
    "    print(pr['regionName'])\n",
    "    print(pr['country'])"
   ]
  },
  {
   "cell_type": "code",
   "execution_count": null,
   "metadata": {
    "collapsed": true
   },
   "outputs": [],
   "source": []
  }
 ],
 "metadata": {
  "kernelspec": {
   "display_name": "Python 3",
   "language": "python",
   "name": "python3"
  },
  "language_info": {
   "codemirror_mode": {
    "name": "ipython",
    "version": 3
   },
   "file_extension": ".py",
   "mimetype": "text/x-python",
   "name": "python",
   "nbconvert_exporter": "python",
   "pygments_lexer": "ipython3",
   "version": "3.6.1"
  }
 },
 "nbformat": 4,
 "nbformat_minor": 2
}
